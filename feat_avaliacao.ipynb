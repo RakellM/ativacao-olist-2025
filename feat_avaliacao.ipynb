{
 "cells": [
  {
   "cell_type": "code",
   "execution_count": 0,
   "metadata": {
    "application/vnd.databricks.v1+cell": {
     "cellMetadata": {},
     "inputWidgets": {},
     "nuid": "a209d796-7f1c-4e6c-9e50-9e12f320e55e",
     "showTitle": false,
     "tableResultSettingsMap": {},
     "title": ""
    }
   },
   "outputs": [],
   "source": [
    "-- # Feature Store - Avaliação\n",
    "-- - MediaAvaliacao\n",
    "-- - TotalReclamacoes (?)\n",
    "-- - Reclamações% (?)\n",
    "-- - qtd_reviews_ate_hoje\n",
    "-- - pctPedidosNaoAvaliados\n",
    "-- - pctTendenciaNotaAvaliacao1mes3meses (nota 1mes / nota med 3)\n",
    "-- - Qtde ou % notas = [0,1,2,3,4,5]\n",
    "-- - Indicador de tendência das avaliações do seller (crescente, estável ou decrescente)\n",
    "\n",
    "WITH \n",
    "  Julia AS (\n",
    "    SELECT A.idPedido, \n",
    "          AVG(B.vlNota) as MEDIA_AVALIACAO, \n",
    "          COUNT(B.vlNota) as QTD_REVIEWS_ATE_HOJE,\n",
    "          COUNT(CASE WHEN B.vlNota IS NULL THEN 1 END) AS SEM_NOTA,\n",
    "          COUNT(CASE WHEN B.vlNota = 0 THEN 1 END) AS QTD_NOTA_0,\n",
    "          COUNT(CASE WHEN B.vlNota = 1 THEN 1 END) AS QTD_NOTA_1,\n",
    "          COUNT(CASE WHEN B.vlNota = 2 THEN 1 END) AS QTD_NOTA_2,\n",
    "          COUNT(CASE WHEN B.vlNota = 3 THEN 1 END) AS QTD_NOTA_3,\n",
    "          COUNT(CASE WHEN B.vlNota = 4 THEN 1 END) AS QTD_NOTA_4,\n",
    "          COUNT(CASE WHEN B.vlNota = 5 THEN 1 END) AS QTD_NOTA_5\n",
    "    FROM SILVER.OLIST.pedido A\n",
    "    LEFT JOIN SILVER.OLIST.avaliacao_pedido B \n",
    "      ON B.idPedido = A.idPedido\n",
    "    GROUP BY A.idPedido\n",
    "  ) ,\n",
    "  Final AS (\n",
    "    SELECT *\n",
    "    FROM Julia\n",
    "  )\n",
    "SELECT * \n",
    "FROM Final"
   ]
  }
 ],
 "metadata": {
  "application/vnd.databricks.v1+notebook": {
   "computePreferences": null,
   "dashboards": [],
   "environmentMetadata": {
    "base_environment": "",
    "environment_version": "2"
   },
   "language": "sql",
   "notebookMetadata": {},
   "notebookName": "feat_avaliacao",
   "widgets": {}
  },
  "language_info": {
   "name": "sql"
  }
 },
 "nbformat": 4,
 "nbformat_minor": 0
}
